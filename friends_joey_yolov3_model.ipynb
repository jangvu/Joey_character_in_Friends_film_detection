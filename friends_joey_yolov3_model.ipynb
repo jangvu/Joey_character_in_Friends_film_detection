{
  "nbformat": 4,
  "nbformat_minor": 0,
  "metadata": {
    "colab": {
      "name": "friends_joey_yolov3_model.ipynb",
      "provenance": [],
      "collapsed_sections": []
    },
    "kernelspec": {
      "name": "python3",
      "display_name": "Python 3"
    },
    "language_info": {
      "name": "python"
    },
    "accelerator": "GPU"
  },
  "cells": [
    {
      "cell_type": "code",
      "execution_count": null,
      "metadata": {
        "id": "CcMbJqxxufZf"
      },
      "outputs": [],
      "source": [
        "# checking GPU\n",
        "!nvidia-smi"
      ]
    },
    {
      "cell_type": "code",
      "source": [
        "from google.colab import drive\n",
        "drive.mount('/content/gdrive')"
      ],
      "metadata": {
        "id": "coNFeOkjuu7L"
      },
      "execution_count": null,
      "outputs": []
    },
    {
      "cell_type": "code",
      "source": [
        "# Clone\n",
        "!git clone https://github.com/AlexeyAB/darknet"
      ],
      "metadata": {
        "id": "xF9ax8Kev54z",
        "colab": {
          "base_uri": "https://localhost:8080/"
        },
        "outputId": "080577ec-4ab2-4cd5-bb43-c7647ae21dc0"
      },
      "execution_count": null,
      "outputs": [
        {
          "output_type": "stream",
          "name": "stdout",
          "text": [
            "Cloning into 'darknet'...\n",
            "remote: Enumerating objects: 15412, done.\u001b[K\n",
            "remote: Total 15412 (delta 0), reused 0 (delta 0), pack-reused 15412\u001b[K\n",
            "Receiving objects: 100% (15412/15412), 14.05 MiB | 24.22 MiB/s, done.\n",
            "Resolving deltas: 100% (10354/10354), done.\n"
          ]
        }
      ]
    },
    {
      "cell_type": "code",
      "source": [
        "# Configure to use GPU and CUDNN\n",
        "%cd darknet\n",
        "!sed -i 's/OPENCV=0/OPENCV=1/' Makefile\n",
        "!sed -i 's/GPU=0/GPU=1/' Makefile\n",
        "!sed -i 's/CUDNN=0/CUDNN=1/' Makefile"
      ],
      "metadata": {
        "id": "rdd2uJMS1FV6"
      },
      "execution_count": null,
      "outputs": []
    },
    {
      "cell_type": "code",
      "source": [
        "# compile\n",
        "!make"
      ],
      "metadata": {
        "id": "9VJ2e9aP1II4"
      },
      "execution_count": null,
      "outputs": []
    },
    {
      "cell_type": "code",
      "source": [
        "# Make a copy of yolov3.cfg\n",
        "!cp cfg/yolov3.cfg cfg/yolov3_training.cfg"
      ],
      "metadata": {
        "id": "rUlx8NVL1Mrr"
      },
      "execution_count": null,
      "outputs": []
    },
    {
      "cell_type": "code",
      "source": [
        "# Change lines in yolov3.cfg file\n",
        "!sed -i 's/batch=1/batch=64/' cfg/yolov3_training.cfg\n",
        "!sed -i 's/subdivisions=1/subdivisions=16/' cfg/yolov3_training.cfg\n",
        "# number of classes * 2000\n",
        "!sed -i 's/max_batches = 500200/max_batches = 2000/' cfg/yolov3_training.cfg\n",
        "# number of classes\n",
        "!sed -i '610 s@classes=80@classes=1@' cfg/yolov3_training.cfg\n",
        "!sed -i '696 s@classes=80@classes=1@' cfg/yolov3_training.cfg\n",
        "!sed -i '783 s@classes=80@classes=1@' cfg/yolov3_training.cfg\n",
        "# (5 + number of classes) * 3\n",
        "!sed -i '603 s@filters=255@filters=18@' cfg/yolov3_training.cfg\n",
        "!sed -i '689 s@filters=255@filters=18@' cfg/yolov3_training.cfg\n",
        "!sed -i '776 s@filters=255@filters=18@' cfg/yolov3_training.cfg"
      ],
      "metadata": {
        "id": "IqUIm6la1TOh"
      },
      "execution_count": null,
      "outputs": []
    },
    {
      "cell_type": "code",
      "source": [
        "# Store object detail\n",
        "!echo -e 'Joey' > data/obj.names"
      ],
      "metadata": {
        "id": "8o3zlRT628IF"
      },
      "execution_count": null,
      "outputs": []
    },
    {
      "cell_type": "markdown",
      "source": [
        "Create obj.data file inside the data folder. Contains 5 lines:\n",
        "\n",
        "\n",
        "1.   number of classes\n",
        "2.   the path to locate train.txt\n",
        "3.   the path to locate test.txt\n",
        "4.   the path to locate obj.names\n",
        "5.   the path to save trained weights\n",
        "\n"
      ],
      "metadata": {
        "id": "DYzByC883CH9"
      }
    },
    {
      "cell_type": "code",
      "source": [
        "!echo -e 'classes= 1\\ntrain  = data/train.txt\\nvalid  = data/test.txt\\nnames = data/obj.names\\nbackup = /content/gdrive/MyDrive/yolov3' > data/obj.data\n"
      ],
      "metadata": {
        "id": "IbK8lSRX4yKK"
      },
      "execution_count": null,
      "outputs": []
    },
    {
      "cell_type": "markdown",
      "source": [
        "Save yolov3_training.cfg and obj.names files in Google drive to reuse."
      ],
      "metadata": {
        "id": "vNGG2LhV4Cio"
      }
    },
    {
      "cell_type": "code",
      "source": [
        "!cp cfg/yolov3_training.cfg /content/gdrive/MyDrive/yolov3/yolov3_testing.cfg\n",
        "!cp data/obj.names /content/gdrive/MyDrive/yolov3/classes.txt\n"
      ],
      "metadata": {
        "id": "WNugtH9L5JrC"
      },
      "execution_count": null,
      "outputs": []
    },
    {
      "cell_type": "markdown",
      "source": [
        "Create a folder and unzip image dataset"
      ],
      "metadata": {
        "id": "_aFNLA4-4SdU"
      }
    },
    {
      "cell_type": "code",
      "source": [
        "!mkdir /content/darknet/data/obj\n",
        "!unzip /content/gdrive/MyDrive/yolov3/images.zip -d /content/darknet/data/obj"
      ],
      "metadata": {
        "id": "jH6mQtVq549i"
      },
      "execution_count": null,
      "outputs": []
    },
    {
      "cell_type": "markdown",
      "source": [
        "Save the image paths into train.txt"
      ],
      "metadata": {
        "id": "Nq5skh9N4hnI"
      }
    },
    {
      "cell_type": "code",
      "source": [
        "import glob\n",
        "images_list = glob.glob(\"/content/darknet/data/obj/*.jpeg\")\n",
        "with open(\"/content/darknet/data/train.txt\", \"w\") as f:\n",
        "    f.write(\"\\n\".join(images_list))"
      ],
      "metadata": {
        "id": "Shm4Z8Jy6SvM"
      },
      "execution_count": null,
      "outputs": []
    },
    {
      "cell_type": "markdown",
      "source": [
        "Download pre-trained weights for the convolutional layers file"
      ],
      "metadata": {
        "id": "zEqlYYT_4pEb"
      }
    },
    {
      "cell_type": "code",
      "source": [
        "!wget https://pjreddie.com/media/files/darknet53.conv.74"
      ],
      "metadata": {
        "id": "Gm3rRA4d7M30"
      },
      "execution_count": null,
      "outputs": []
    },
    {
      "cell_type": "markdown",
      "source": [
        "Training"
      ],
      "metadata": {
        "id": "FpfBE7wZ4s6P"
      }
    },
    {
      "cell_type": "code",
      "source": [
        "!./darknet detector train data/obj.data cfg/yolov3_training.cfg darknet53.conv.74 -dont_show\n",
        "# re-start your training from last saved weights\n",
        "#!./darknet detector train data/obj.data cfg/yolov3_training.cfg /mydrive/yolov3/yolov3_training_last.weights -dont_show"
      ],
      "metadata": {
        "id": "JLnxc2Pi8I_h"
      },
      "execution_count": null,
      "outputs": []
    }
  ]
}